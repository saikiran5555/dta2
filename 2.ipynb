{
 "cells": [
  {
   "cell_type": "code",
   "execution_count": null,
   "id": "24873053",
   "metadata": {},
   "outputs": [],
   "source": [
    "import pandas as pd\n",
    "import matplotlib.pyplot as plt\n",
    "import seaborn as sns\n",
    "\n",
    "# Load the dataset\n",
    "file_path = 'diabetes.csv'  \n",
    "df = pd.read_csv(file_path)\n",
    "\n",
    "# Check for missing values\n",
    "print(\"Missing values before preprocessing:\")\n",
    "print(df.isnull().sum())\n",
    "\n",
    "# Handling missing values (assuming missing values are represented as zeros for certain variables)\n",
    "# Replace zeros with NaN for relevant columns\n",
    "cols_with_zeros_as_missing = ['Glucose', 'BloodPressure', 'SkinThickness', 'Insulin', 'BMI']\n",
    "df[cols_with_zeros_as_missing] = df[cols_with_zeros_as_missing].replace(0, pd.NA)\n",
    "\n",
    "# Impute missing values using mean or median\n",
    "df.fillna(df.median(), inplace=True)\n",
    "\n",
    "# Check for missing values after preprocessing\n",
    "print(\"\\nMissing values after preprocessing:\")\n",
    "print(df.isnull().sum())\n",
    "\n",
    "# Handling outliers (considering a simple approach, you might choose a more sophisticated method based on the distribution of your data)\n",
    "# Define numerical columns for outlier detection\n",
    "numerical_columns = df.columns.difference(['Outcome'])\n",
    "\n",
    "# Visualize boxplots to identify outliers\n",
    "plt.figure(figsize=(12, 8))\n",
    "sns.boxplot(data=df[numerical_columns])\n",
    "plt.title('Boxplots of Numerical Variables')\n",
    "plt.show()\n",
    "\n",
    "# Remove outliers using Z-score method\n",
    "from scipy.stats import zscore\n",
    "\n",
    "z_scores = zscore(df[numerical_columns])\n",
    "df_no_outliers = df[(z_scores < 3).all(axis=1)]\n",
    "\n",
    "# Transform categorical variables into dummy variables if necessary\n",
    "# (In this case, there are no categorical variables, but if present, you can use pd.get_dummies())\n",
    "\n",
    "# Display the shape of the dataset after preprocessing\n",
    "print(\"\\nShape of the dataset after preprocessing:\")\n",
    "print(df_no_outliers.shape)\n"
   ]
  },
  {
   "cell_type": "code",
   "execution_count": null,
   "id": "1b5aea8a",
   "metadata": {},
   "outputs": [],
   "source": []
  },
  {
   "cell_type": "code",
   "execution_count": null,
   "id": "189e0d35",
   "metadata": {},
   "outputs": [],
   "source": []
  }
 ],
 "metadata": {
  "kernelspec": {
   "display_name": "Python 3 (ipykernel)",
   "language": "python",
   "name": "python3"
  },
  "language_info": {
   "codemirror_mode": {
    "name": "ipython",
    "version": 3
   },
   "file_extension": ".py",
   "mimetype": "text/x-python",
   "name": "python",
   "nbconvert_exporter": "python",
   "pygments_lexer": "ipython3",
   "version": "3.10.9"
  }
 },
 "nbformat": 4,
 "nbformat_minor": 5
}
